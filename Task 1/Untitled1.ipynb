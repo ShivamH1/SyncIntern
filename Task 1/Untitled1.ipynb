{
 "cells": [
  {
   "cell_type": "code",
   "execution_count": 2,
   "id": "d793561e",
   "metadata": {},
   "outputs": [],
   "source": [
    "import nltk\n",
    "import numpy as np\n",
    "import random \n",
    "import string\n",
    "\n",
    "import bs4 as bs\n",
    "import requests \n",
    "import re\n",
    "\n",
    "import warnings\n",
    "warnings.filterwarnings = False"
   ]
  },
  {
   "cell_type": "code",
   "execution_count": 3,
   "id": "e89676c1",
   "metadata": {},
   "outputs": [],
   "source": [
    "from sklearn.feature_extraction.text import TfidfVectorizer\n",
    "from sklearn.metrics.pairwise import cosine_similarity\n"
   ]
  },
  {
   "cell_type": "code",
   "execution_count": 25,
   "id": "f3ba6493",
   "metadata": {},
   "outputs": [
    {
     "name": "stderr",
     "output_type": "stream",
     "text": [
      "[nltk_data] Downloading package punkt to\n",
      "[nltk_data]     C:\\Users\\shiva\\AppData\\Roaming\\nltk_data...\n",
      "[nltk_data]   Package punkt is already up-to-date!\n",
      "[nltk_data] Downloading package wordnet to\n",
      "[nltk_data]     C:\\Users\\shiva\\AppData\\Roaming\\nltk_data...\n",
      "[nltk_data]   Package wordnet is already up-to-date!\n",
      "[nltk_data] Downloading package omw-1.4 to\n",
      "[nltk_data]     C:\\Users\\shiva\\AppData\\Roaming\\nltk_data...\n"
     ]
    },
    {
     "data": {
      "text/plain": [
       "True"
      ]
     },
     "execution_count": 25,
     "metadata": {},
     "output_type": "execute_result"
    }
   ],
   "source": [
    "nltk.download('punkt')\n",
    "nltk.download('wordnet')\n",
    "nltk.download('omw-1.4')"
   ]
  },
  {
   "cell_type": "code",
   "execution_count": 26,
   "id": "4180c8ad",
   "metadata": {},
   "outputs": [],
   "source": [
    "r = requests.get('https://en.wikipedia.org/wiki/Cuisine')\n",
    "raw_html = r.text"
   ]
  },
  {
   "cell_type": "code",
   "execution_count": 27,
   "id": "47726592",
   "metadata": {},
   "outputs": [
    {
     "data": {
      "text/plain": [
       "<Response [200]>"
      ]
     },
     "execution_count": 27,
     "metadata": {},
     "output_type": "execute_result"
    }
   ],
   "source": [
    "r"
   ]
  },
  {
   "cell_type": "code",
   "execution_count": 28,
   "id": "c4003e6d",
   "metadata": {},
   "outputs": [],
   "source": [
    "corpus_html = bs.BeautifulSoup(raw_html)\n",
    "\n",
    "corpus_paras = corpus_html.find_all('p')\n",
    "corpus_text = ''\n",
    "\n",
    "for para in corpus_paras:\n",
    "    corpus_text += para.text\n",
    "    \n",
    "corpus_text = corpus_text.lower()"
   ]
  },
  {
   "cell_type": "raw",
   "id": "6426206b",
   "metadata": {},
   "source": [
    "corpus_text"
   ]
  },
  {
   "cell_type": "code",
   "execution_count": 29,
   "id": "c933d353",
   "metadata": {},
   "outputs": [
    {
     "data": {
      "text/plain": [
       "'\\na cuisine  is a style of cooking characterized by distinctive ingredients, techniques and dishes, and usually associated with a specific culture or geographic region. regional food preparation techniques, customs, and ingredients  combine to enable dishes unique to a region.[1]\\na cuisine is partly determined by ingredients that are available locally or through trade. regional ingredients are developed and commonly contribute to a regional or national cuisine, such as japanese rice in japanese cuisine or new mexico chile in new mexican cuisine. likewise, national dishes have variations, such as gyros in greek cuisine and hamburger in american cuisine.\\nreligious food laws can also exercise an influence on cuisine, such as hinduism in indian cuisine, sikhism in punjabi cuisine, buddhism in east asian cuisine, christianity in european cuisine,[2][3][4] islam in middle eastern cuisine, and judaism in jewish and israeli cuisine.\\ncuisine is borrowed from the french meaning cooking, culinary art and kitchen.[5]\\nsome factors that have an influence on a region\\'s cuisine include the area\\'s climate, the trade among different countries, religious or sumptuary laws and culinary culture exchange. for example, a tropical diet may be based more on fruits and vegetables, while a polar diet might rely more on meat and fish.\\nthe area\\'s climate, in large measure, determines the native foods that are available. in addition, climate influences food preservation. for example, foods preserved for winter consumption by smoking, curing, and pickling have remained significant in world cuisines for their altered gustatory properties.\\nthe trade among different countries also largely affects a region\\'s cuisine. dating back to the ancient spice trade, seasonings such as cinnamon, cassia, cardamom, ginger, and turmeric were important items of commerce in the earliest evolution of trade, and india was a global market for this. cinnamon and cassia found their way to the middle east at least 4,000 years ago.[6]\\ncertain foods and food preparations are required or proscribed by the religiousness or sumptuary laws, such as islamic dietary laws and jewish dietary laws.\\nculinary culture exchange is also an important factor for cuisine in many regions: japan\\'s first substantial and direct exposure to the west came with the arrival of european missionaries in the second half of the 16th century. at that time, the combination of spanish and portuguese game frying techniques with an east asian method for cooking vegetables in oil led to the development of tempura, the \"popular japanese dish in which seafood and many different types of vegetables are coated with batter and deep fried\".[7]\\ncuisine dates back to the antiquity. as food began to require more planning, there was an emergence of meals that situated around culture.[8]\\ncuisines evolve continually, and new cuisines are created by innovation and cultural interaction. one recent example is fusion cuisine, which combines elements of various culinary traditions while not being categorized per any one cuisine style, and generally refers to the innovations in many contemporary restaurant cuisines since the 1970s.[9] nouvelle cuisine (new cuisine) is an approach to cooking and food presentation in french cuisine that was popularized in the 1960s by the food critics henri gault, who invented the phrase, and his colleagues andré gayot and christian millau in a new restaurant guide, the gault-millau, or le nouveau guide.[citation needed] molecular cuisine, is a modern style of cooking which takes advantage of many technical innovations from the scientific disciplines (molecular cooking). the term was coined in 1999 by the french inra chemist hervé this because he wanted to distinguish it from the name molecular gastronomy (a scientific activity) that was  introduced by him and the late oxford physicist nicholas kurti in 1988.[10] it is also named as multi sensory cooking, modernist cuisine, culinary physics, and experimental cuisine by some chefs.[11] besides, international trade brings new foodstuffs including ingredients to existing cuisines and leads to changes. the introduction of hot pepper to china from south america around the end of the 17th century, greatly influencing sichuan cuisine, which combines the original taste (with use of sichuan pepper) with the taste of newly introduced hot pepper and creates a unique mala (麻辣) flavor that\\'s mouth-numbingly spicy and pungent.[12]\\na global cuisine is a cuisine that is practiced around the world, and can be categorized according to the common use of major foodstuffs, including grains, produce and cooking fats.\\nregional cuisines can vary based on availability and usage of specific ingredients, local cooking traditions and practices, as well as overall cultural differences.[13] such factors can be more-or-less uniform across wide swaths of territory, or vary intensely within individual regions. for example, in central and north south america, corn (maize), both fresh and dried, is a staple food, and is used in many different ways. in northern europe, wheat, rye, and fats of animal origin predominate, while in southern europe olive oil is ubiquitous and rice is more prevalent. in italy, the cuisine of the north, featuring butter and rice, stands in contrast to that of the south, with its wheat pasta and olive oil. in some parts of china, rice is the staple, while in others this role is filled by noodles and bread. throughout the middle east and mediterranean, common ingredients include lamb, olive oil, lemons, peppers, and rice. the vegetarianism practiced in much of india has made pulses (crops harvested solely for the dry seed) such as chickpeas and lentils as important as wheat or rice. from india to indonesia, the extensive use of spices is characteristic; coconuts and seafood are also used throughout the region both as foodstuffs and as seasonings.\\nafrican cuisines use a combination of locally available fruits, cereals and vegetables, as well as milk and meat products. in some parts of the continent, the traditional diet features a preponderance of milk, curd and whey products. in much of tropical africa, however, cow\\'s milk is rare and cannot be produced locally (owing to various diseases that affect livestock). the continent\\'s diverse demographic makeup is reflected in the many different eating and drinking habits, dishes, and preparation techniques of its manifold populations.[14]\\ntypical ethiopian and eritrean cuisine: injera (thin pancake-like bread) and several kinds of wat (stew)\\na ramadan dinner in tanzania\\nyassa is a popular dish throughout west africa prepared with chicken or fish. chicken yassa is pictured.\\nspices at central market in agadir, morocco\\ndue to asia\\'s vast size and extremely diverse geography and demographics, asian cuisines are many and varied, and include east asian cuisine, south asian cuisine, southeast asian cuisine, central asian cuisine and west asian cuisine. ingredients common to east asia and southeast asia (due to overseas chinese influence) include rice, ginger, garlic, sesame seeds, chilies, dried onions, soy, and tofu, with stir frying, steaming, and deep frying being common cooking methods. while rice is common to most regional cuisines in asia, different varieties are popular in the different regions: basmati rice is popular in south asia, jasmine rice in southeast asia, and long-grain rice in china and short-grain rice in japan and korea.[15] curry is also a common ingredient found in south asia, southeast asia, and east asia (notably japanese curry); however, they are not popular in west asian and central asian cuisines. those curry dishes with origins in south asia usually have a yogurt base, with origins in southeast asia a coconut milk base, and in east asia a stewed meat and vegetable base.[16] south asian cuisine and southeast asian cuisine are often characterized by their extensive use of spices and herbs native to the tropical regions of asia.\\ndue to guangdong\\'s location on the southern coast of china, fresh live seafood is a specialty in cantonese cuisine. such markets selling seafood are found across east asia.\\ntraditional north indian vegetarian thali with various curries from india. various curry dishes are found across south asia.\\na market stall at thanin market in chiang mai, thailand, selling ready-cooked food. market stalls selling food are found across southeast asia.\\na tajik feast. a large feast is commonly associated with cultures of central asia.\\ntypical assyrian cuisine; an example of a type of meal found in west asia.\\neuropean cuisine (alternatively, \"western cuisine\") include the cuisines of europe and other western countries. european cuisine includes non-indigenous cuisines of north america, australasia, oceania, and latin america as well. the term is used by east asians to contrast with east asian styles of cooking.[17] when used in english, the term may refer more specifically to cuisine in (continental) europe; in this context, a synonym is continental cuisine.\\nan english sunday roast with roast beef, roast potatoes, vegetables and yorkshire pudding\\na variety of tapas: appetizers or snacks in spanish cuisine\\ngerman sausages and cheese\\nbeef stroganoff, a russian dish.\\noceanian cuisines include australian cuisine, new zealand cuisine, and the cuisines from many other islands or island groups throughout oceania. australian cuisine consists of immigrant anglo-celtic derived cuisine, and bushfood prepared and eaten by native aboriginal australian peoples, and various newer asian influences. new zealand cuisine also consists of european inspired dishes, such as pavlova, and native maori cuisine. across oceania, staples include the kumura (sweet potato) and taro, which was/is a staple from papua new guinea to the south pacific. on most islands in the south pacific, fish are widely consumed because of the proximity to the ocean.\\nbush tucker (bush foods) harvested at alice springs desert park in australia\\na hāngi being prepared, a new zealand māori method of cooking food for special occasions using hot rocks buried in a pit oven.\\nsamoan umu, an oven of hot rocks above ground\\nthe cuisines of the americas are found across north and south america, and are based on the cuisines of the countries from which the immigrant people came, primarily europe. however, the traditional european cuisine has been adapted by the addition of many local and native ingredients, and many techniques have been added to traditional foods as well. native american cuisine is prepared by indigenous populations across the continent, and its influences can be seen on multi-ethnic latin american cuisine. many staple foods eaten across the continent, such as corn (maize), beans, and potatoes have native origins. the regional cuisines are north american cuisine, mexican cuisine, central american cuisine, south american cuisine, and caribbean cuisine.\\nbandeja paisa from peñól de guatapé in antioquia, colombia.\\na jamaican patty wrapped in coco bread.\\nbuffalo wings with blue cheese dressing, served with lager beer.\\ntacos filled with several meat types, mainly beef, chicken and pork.[18]\\n'"
      ]
     },
     "execution_count": 29,
     "metadata": {},
     "output_type": "execute_result"
    }
   ],
   "source": [
    "corpus_text"
   ]
  },
  {
   "cell_type": "code",
   "execution_count": 30,
   "id": "fea3270a",
   "metadata": {},
   "outputs": [],
   "source": [
    "corpus_text = re.sub(r'\\[[0-9]*\\]',' ',corpus_text)\n",
    "corpus_text = re.sub(r'\\s+',' ',corpus_text)"
   ]
  },
  {
   "cell_type": "code",
   "execution_count": 31,
   "id": "46527cea",
   "metadata": {},
   "outputs": [],
   "source": [
    "corpus_sentences = nltk.tokenize.sent_tokenize(corpus_text)\n",
    "corpus_words = nltk.tokenize.word_tokenize(corpus_text) "
   ]
  },
  {
   "cell_type": "code",
   "execution_count": 32,
   "id": "d0aec408",
   "metadata": {},
   "outputs": [
    {
     "data": {
      "text/plain": [
       "[' a cuisine is a style of cooking characterized by distinctive ingredients, techniques and dishes, and usually associated with a specific culture or geographic region.',\n",
       " 'regional food preparation techniques, customs, and ingredients combine to enable dishes unique to a region.',\n",
       " 'a cuisine is partly determined by ingredients that are available locally or through trade.',\n",
       " 'regional ingredients are developed and commonly contribute to a regional or national cuisine, such as japanese rice in japanese cuisine or new mexico chile in new mexican cuisine.',\n",
       " 'likewise, national dishes have variations, such as gyros in greek cuisine and hamburger in american cuisine.',\n",
       " 'religious food laws can also exercise an influence on cuisine, such as hinduism in indian cuisine, sikhism in punjabi cuisine, buddhism in east asian cuisine, christianity in european cuisine, islam in middle eastern cuisine, and judaism in jewish and israeli cuisine.',\n",
       " 'cuisine is borrowed from the french meaning cooking, culinary art and kitchen.',\n",
       " \"some factors that have an influence on a region's cuisine include the area's climate, the trade among different countries, religious or sumptuary laws and culinary culture exchange.\",\n",
       " 'for example, a tropical diet may be based more on fruits and vegetables, while a polar diet might rely more on meat and fish.',\n",
       " \"the area's climate, in large measure, determines the native foods that are available.\",\n",
       " 'in addition, climate influences food preservation.',\n",
       " 'for example, foods preserved for winter consumption by smoking, curing, and pickling have remained significant in world cuisines for their altered gustatory properties.',\n",
       " \"the trade among different countries also largely affects a region's cuisine.\",\n",
       " 'dating back to the ancient spice trade, seasonings such as cinnamon, cassia, cardamom, ginger, and turmeric were important items of commerce in the earliest evolution of trade, and india was a global market for this.',\n",
       " 'cinnamon and cassia found their way to the middle east at least 4,000 years ago.',\n",
       " 'certain foods and food preparations are required or proscribed by the religiousness or sumptuary laws, such as islamic dietary laws and jewish dietary laws.',\n",
       " \"culinary culture exchange is also an important factor for cuisine in many regions: japan's first substantial and direct exposure to the west came with the arrival of european missionaries in the second half of the 16th century.\",\n",
       " 'at that time, the combination of spanish and portuguese game frying techniques with an east asian method for cooking vegetables in oil led to the development of tempura, the \"popular japanese dish in which seafood and many different types of vegetables are coated with batter and deep fried\".',\n",
       " 'cuisine dates back to the antiquity.',\n",
       " 'as food began to require more planning, there was an emergence of meals that situated around culture.',\n",
       " 'cuisines evolve continually, and new cuisines are created by innovation and cultural interaction.',\n",
       " 'one recent example is fusion cuisine, which combines elements of various culinary traditions while not being categorized per any one cuisine style, and generally refers to the innovations in many contemporary restaurant cuisines since the 1970s.',\n",
       " 'nouvelle cuisine (new cuisine) is an approach to cooking and food presentation in french cuisine that was popularized in the 1960s by the food critics henri gault, who invented the phrase, and his colleagues andré gayot and christian millau in a new restaurant guide, the gault-millau, or le nouveau guide.',\n",
       " '[citation needed] molecular cuisine, is a modern style of cooking which takes advantage of many technical innovations from the scientific disciplines (molecular cooking).',\n",
       " 'the term was coined in 1999 by the french inra chemist hervé this because he wanted to distinguish it from the name molecular gastronomy (a scientific activity) that was introduced by him and the late oxford physicist nicholas kurti in 1988. it is also named as multi sensory cooking, modernist cuisine, culinary physics, and experimental cuisine by some chefs.',\n",
       " 'besides, international trade brings new foodstuffs including ingredients to existing cuisines and leads to changes.',\n",
       " \"the introduction of hot pepper to china from south america around the end of the 17th century, greatly influencing sichuan cuisine, which combines the original taste (with use of sichuan pepper) with the taste of newly introduced hot pepper and creates a unique mala (麻辣) flavor that's mouth-numbingly spicy and pungent.\",\n",
       " 'a global cuisine is a cuisine that is practiced around the world, and can be categorized according to the common use of major foodstuffs, including grains, produce and cooking fats.',\n",
       " 'regional cuisines can vary based on availability and usage of specific ingredients, local cooking traditions and practices, as well as overall cultural differences.',\n",
       " 'such factors can be more-or-less uniform across wide swaths of territory, or vary intensely within individual regions.',\n",
       " 'for example, in central and north south america, corn (maize), both fresh and dried, is a staple food, and is used in many different ways.',\n",
       " 'in northern europe, wheat, rye, and fats of animal origin predominate, while in southern europe olive oil is ubiquitous and rice is more prevalent.',\n",
       " 'in italy, the cuisine of the north, featuring butter and rice, stands in contrast to that of the south, with its wheat pasta and olive oil.',\n",
       " 'in some parts of china, rice is the staple, while in others this role is filled by noodles and bread.',\n",
       " 'throughout the middle east and mediterranean, common ingredients include lamb, olive oil, lemons, peppers, and rice.',\n",
       " 'the vegetarianism practiced in much of india has made pulses (crops harvested solely for the dry seed) such as chickpeas and lentils as important as wheat or rice.',\n",
       " 'from india to indonesia, the extensive use of spices is characteristic; coconuts and seafood are also used throughout the region both as foodstuffs and as seasonings.',\n",
       " 'african cuisines use a combination of locally available fruits, cereals and vegetables, as well as milk and meat products.',\n",
       " 'in some parts of the continent, the traditional diet features a preponderance of milk, curd and whey products.',\n",
       " \"in much of tropical africa, however, cow's milk is rare and cannot be produced locally (owing to various diseases that affect livestock).\",\n",
       " \"the continent's diverse demographic makeup is reflected in the many different eating and drinking habits, dishes, and preparation techniques of its manifold populations.\",\n",
       " 'typical ethiopian and eritrean cuisine: injera (thin pancake-like bread) and several kinds of wat (stew) a ramadan dinner in tanzania yassa is a popular dish throughout west africa prepared with chicken or fish.',\n",
       " 'chicken yassa is pictured.',\n",
       " \"spices at central market in agadir, morocco due to asia's vast size and extremely diverse geography and demographics, asian cuisines are many and varied, and include east asian cuisine, south asian cuisine, southeast asian cuisine, central asian cuisine and west asian cuisine.\",\n",
       " 'ingredients common to east asia and southeast asia (due to overseas chinese influence) include rice, ginger, garlic, sesame seeds, chilies, dried onions, soy, and tofu, with stir frying, steaming, and deep frying being common cooking methods.',\n",
       " 'while rice is common to most regional cuisines in asia, different varieties are popular in the different regions: basmati rice is popular in south asia, jasmine rice in southeast asia, and long-grain rice in china and short-grain rice in japan and korea.',\n",
       " 'curry is also a common ingredient found in south asia, southeast asia, and east asia (notably japanese curry); however, they are not popular in west asian and central asian cuisines.',\n",
       " 'those curry dishes with origins in south asia usually have a yogurt base, with origins in southeast asia a coconut milk base, and in east asia a stewed meat and vegetable base.',\n",
       " 'south asian cuisine and southeast asian cuisine are often characterized by their extensive use of spices and herbs native to the tropical regions of asia.',\n",
       " \"due to guangdong's location on the southern coast of china, fresh live seafood is a specialty in cantonese cuisine.\",\n",
       " 'such markets selling seafood are found across east asia.',\n",
       " 'traditional north indian vegetarian thali with various curries from india.',\n",
       " 'various curry dishes are found across south asia.',\n",
       " 'a market stall at thanin market in chiang mai, thailand, selling ready-cooked food.',\n",
       " 'market stalls selling food are found across southeast asia.',\n",
       " 'a tajik feast.',\n",
       " 'a large feast is commonly associated with cultures of central asia.',\n",
       " 'typical assyrian cuisine; an example of a type of meal found in west asia.',\n",
       " 'european cuisine (alternatively, \"western cuisine\") include the cuisines of europe and other western countries.',\n",
       " 'european cuisine includes non-indigenous cuisines of north america, australasia, oceania, and latin america as well.',\n",
       " 'the term is used by east asians to contrast with east asian styles of cooking.',\n",
       " 'when used in english, the term may refer more specifically to cuisine in (continental) europe; in this context, a synonym is continental cuisine.',\n",
       " 'an english sunday roast with roast beef, roast potatoes, vegetables and yorkshire pudding a variety of tapas: appetizers or snacks in spanish cuisine german sausages and cheese beef stroganoff, a russian dish.',\n",
       " 'oceanian cuisines include australian cuisine, new zealand cuisine, and the cuisines from many other islands or island groups throughout oceania.',\n",
       " 'australian cuisine consists of immigrant anglo-celtic derived cuisine, and bushfood prepared and eaten by native aboriginal australian peoples, and various newer asian influences.',\n",
       " 'new zealand cuisine also consists of european inspired dishes, such as pavlova, and native maori cuisine.',\n",
       " 'across oceania, staples include the kumura (sweet potato) and taro, which was/is a staple from papua new guinea to the south pacific.',\n",
       " 'on most islands in the south pacific, fish are widely consumed because of the proximity to the ocean.',\n",
       " 'bush tucker (bush foods) harvested at alice springs desert park in australia a hāngi being prepared, a new zealand māori method of cooking food for special occasions using hot rocks buried in a pit oven.',\n",
       " 'samoan umu, an oven of hot rocks above ground the cuisines of the americas are found across north and south america, and are based on the cuisines of the countries from which the immigrant people came, primarily europe.',\n",
       " 'however, the traditional european cuisine has been adapted by the addition of many local and native ingredients, and many techniques have been added to traditional foods as well.',\n",
       " 'native american cuisine is prepared by indigenous populations across the continent, and its influences can be seen on multi-ethnic latin american cuisine.',\n",
       " 'many staple foods eaten across the continent, such as corn (maize), beans, and potatoes have native origins.',\n",
       " 'the regional cuisines are north american cuisine, mexican cuisine, central american cuisine, south american cuisine, and caribbean cuisine.',\n",
       " 'bandeja paisa from peñól de guatapé in antioquia, colombia.',\n",
       " 'a jamaican patty wrapped in coco bread.',\n",
       " 'buffalo wings with blue cheese dressing, served with lager beer.',\n",
       " 'tacos filled with several meat types, mainly beef, chicken and pork.']"
      ]
     },
     "execution_count": 32,
     "metadata": {},
     "output_type": "execute_result"
    }
   ],
   "source": [
    "corpus_sentences"
   ]
  },
  {
   "cell_type": "code",
   "execution_count": 33,
   "id": "3f03d438",
   "metadata": {},
   "outputs": [],
   "source": [
    "greeting_inputs = (\"hey\",\"good morning\",\"good evening\",\"morning\",\"evening\",\"hi\",\"whatsup\",)\n",
    "greeting_responses = [\"hey\",\"hey hows you?\",\"*nods*\",\"hello, how you doing\",\"hello\",\"Welcome I am good\",]\n",
    "\n",
    "def greet_response(greeting):\n",
    "    for token in greeting.split():\n",
    "        if token.lower() in greeting_inputs:\n",
    "            return random.choice(greeting_responses)"
   ]
  },
  {
   "cell_type": "code",
   "execution_count": 34,
   "id": "c688883b",
   "metadata": {},
   "outputs": [],
   "source": [
    "wn_lemmatizer = nltk.stem.WordNetLemmatizer()\n",
    "\n",
    "def lemmatize_corpus(tokens):\n",
    "    return [wn_lemmatizer.lemmatize(token) for token in tokens]\n",
    "\n",
    "punct_removal_dict = dict((ord(punctuation),None) for punctuation in string.punctuation)\n",
    "\n",
    "def get_processed_text(document):\n",
    "    return lemmatize_corpus(nltk.tokenize.word_tokenize(document.lower().translate(punct_removal_dict)))"
   ]
  },
  {
   "cell_type": "code",
   "execution_count": 37,
   "id": "e092944e",
   "metadata": {},
   "outputs": [],
   "source": [
    "def respond(user_input):\n",
    "    global corpus_sentences\n",
    "    bot_response = ''\n",
    "    corpus_sentences.append(user_input)\n",
    "    \n",
    "    word_vectorizer = TfidfVectorizer(tokenizer=get_processed_text, stop_words='english')\n",
    "    corpus_word_vectors = word_vectorizer.fit_transform(corpus_sentences)\n",
    "    \n",
    "    cos_sim_vectors = cosine_similarity(corpus_word_vectors[-1], corpus_word_vectors)\n",
    "    similar_response_idx = cos_sim_vectors.argsort()[0][-2]\n",
    "    \n",
    "    matched_vector = cos_sim_vectors.flatten()\n",
    "    matched_vector.sort()\n",
    "    vector_matched = matched_vector[-2]\n",
    "    \n",
    "    if vector_matched == 0:\n",
    "        bot_response = bot_response + \"I am sorry, what is it, again?\"\n",
    "        return bot_response\n",
    "    else:\n",
    "        bot_response = bot_response + corpus_sentences[similar_response_idx]\n",
    "        return bot_response"
   ]
  },
  {
   "cell_type": "code",
   "execution_count": null,
   "id": "151e739d",
   "metadata": {
    "scrolled": false
   },
   "outputs": [
    {
     "name": "stdout",
     "output_type": "stream",
     "text": [
      "Hello, What do you want to learn about Cuisines today?\n",
      "Hi\n",
      "CuisineBot:hey\n",
      "cuisine\n",
      "CuisineBot: cuisine\n",
      "pizza\n",
      "CuisineBot: I am sorry, what is it, again?\n",
      "beer\n",
      "CuisineBot: buffalo wings with blue cheese dressing, served with lager beer.\n"
     ]
    }
   ],
   "source": [
    "chat = True\n",
    "print(\"Hello, What do you want to learn about Cuisines today?\")\n",
    "while (chat == True) :\n",
    "    user_query=input()\n",
    "    user_query = user_query.lower()\n",
    "    if user_query != 'quit':\n",
    "        if user_query == 'thanks' or user_query == 'thank you':\n",
    "            chat = False\n",
    "            print(\"CuisineBot: You are welcome!\")\n",
    "        else:\n",
    "            if greet_response (user_query) != None:\n",
    "                print(\"CuisineBot:\" + greet_response (user_query))\n",
    "            else:\n",
    "                print(\"CuisineBot: \", end=\"\")\n",
    "                print (respond (user_query))\n",
    "                corpus_sentences.remove(user_query)\n",
    "    else:\n",
    "        chat = False\n",
    "        print(\"CuisineBot: Good bye!\")"
   ]
  },
  {
   "cell_type": "code",
   "execution_count": null,
   "id": "a7f50196",
   "metadata": {},
   "outputs": [],
   "source": []
  }
 ],
 "metadata": {
  "kernelspec": {
   "display_name": "Python 3 (ipykernel)",
   "language": "python",
   "name": "python3"
  },
  "language_info": {
   "codemirror_mode": {
    "name": "ipython",
    "version": 3
   },
   "file_extension": ".py",
   "mimetype": "text/x-python",
   "name": "python",
   "nbconvert_exporter": "python",
   "pygments_lexer": "ipython3",
   "version": "3.9.13"
  }
 },
 "nbformat": 4,
 "nbformat_minor": 5
}
